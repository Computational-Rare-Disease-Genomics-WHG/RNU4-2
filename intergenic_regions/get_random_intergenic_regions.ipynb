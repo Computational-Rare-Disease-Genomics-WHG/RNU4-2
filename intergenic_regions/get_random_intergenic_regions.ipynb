{
 "cells": [
  {
   "cell_type": "code",
   "execution_count": 2,
   "metadata": {},
   "outputs": [],
   "source": [
    "import pandas as pd\n",
    "import numpy as np\n",
    "import os\n",
    "import warnings\n",
    "import random\n",
    "from collections import Counter\n",
    "import subprocess\n",
    "pd.options.mode.chained_assignment = None"
   ]
  },
  {
   "cell_type": "code",
   "execution_count": 5,
   "metadata": {},
   "outputs": [],
   "source": [
    "# get the intergenic regions created by bedtools' subtractBed function. \"hg38_whole_chr.bed\" simply lists the start/end of each chromosome, and the annotation file was retrieved from UCSC\n",
    "os.system('subtractBed -a hg38_whole_chr.bed -b hg38.ncbiRefSeq.bed.gz > hg38.ncbiRefSeq.intergenic.bed')\n",
    "os.system('gzip hg38.ncbiRefSeq.intergenic.bed')\n",
    "\n",
    "# load NCBI chr12 annotation\n",
    "ncbi = pd.read_csv('hg38.ncbiRefSeq.intergenic.bed.gz', sep='\\t', header=None, names=['chr', 'start', 'end'])\n",
    "ncbi = ncbi[ncbi['chr'] == 'chr12']\n",
    "ncbi['start'] = ncbi['start'].astype(int)\n",
    "ncbi['end'] = ncbi['end'].astype(int)\n",
    "\n",
    "# select start and end for each chromosome\n",
    "whole_chr_coor = pd.read_csv('hg38_whole_chr.bed', sep='\\t', header=None)\n",
    "whole_chr_coor.rename(columns={0: 'chr', 1: 'chr_start', 2: 'chr_end'}, inplace=True)\n"
   ]
  },
  {
   "cell_type": "code",
   "execution_count": 6,
   "metadata": {},
   "outputs": [],
   "source": [
    "# RefSeq aligned by NCBI\n",
    "\n",
    "# add the min/max chr values\n",
    "ncbi_whole = pd.merge(ncbi, whole_chr_coor, how='left', on='chr')\n",
    "\n",
    "# get the min/max start/end for use in restricting regions for adding/substracting 10kbp\n",
    "min_start = set(ncbi_whole['start'])\n",
    "min_start_value = sorted(min_start)[1] # 32015\n",
    "max_start_value = sorted(min_start)[-1] # 133238438\n",
    "\n",
    "max_end = set(ncbi_whole['end'])\n",
    "max_end_value = sorted(max_end)[-2] # 133275309\n",
    "min_end_value = sorted(max_end)[0] # 12309\n"
   ]
  },
  {
   "cell_type": "code",
   "execution_count": 7,
   "metadata": {},
   "outputs": [],
   "source": [
    "# remove any regions that are not 10kbp from each end that are at least 141bp in length\n",
    "ncbi_whole['seq_len'] = ncbi_whole['end'] - ncbi_whole['start']\n",
    "ncbi_ig = ncbi_whole[ncbi_whole['seq_len'] >= 20141]\n"
   ]
  },
  {
   "cell_type": "code",
   "execution_count": 8,
   "metadata": {},
   "outputs": [],
   "source": [
    "# update the coordinates\n",
    "\n",
    "# adds/subtracts 10kbp from each end of the intergenic regions except from the start/end of the chromosome\n",
    "ncbi_ig['start'] = ncbi_ig['start'].apply(lambda x: x + 10000 if (max_end_value + 10000) >= x >= (min_start_value - 10000) else x)\n",
    "ncbi_ig['end'] = ncbi_ig['end'].apply(lambda x: x - 10000 if (max_start_value - 10000) >= x >= (min_end_value - 10000) else x)\n",
    "\n",
    "# get the intergenic region length\n",
    "ncbi_ig['seq_len'] = ncbi_ig['end'] - ncbi_ig['start']\n",
    "ncbi_ig.drop(['chr_start', 'chr_end'], axis=1, inplace=True)\n"
   ]
  },
  {
   "cell_type": "code",
   "execution_count": 10,
   "metadata": {},
   "outputs": [],
   "source": [
    "# get centromere coordinates. Centromere coordinates from UCSC\n",
    "centromeres = pd.read_csv('centromeres.txt.gz', header=None, usecols=[1, 2, 3], sep='\\t')\n",
    "centromeres_12 = centromeres[centromeres[1] == 'chr12']\n",
    "\n",
    "cent_regions = list(zip(centromeres_12[2], centromeres_12[3]))\n",
    "\n",
    "# centremere for chr 12 is [(34769407, 34816611), (34835295, 37185252)], but I'm just going to merge them as a single region\n",
    "cent_range = (34769407, 37185252)\n",
    "\n",
    "def remove_cent(start, end, cent_range):\n",
    "    '''\n",
    "    function to remove the centromeric regions from chr12\n",
    "    '''\n",
    "    if start < cent_range[0] < end and start < cent_range[1] < end:\n",
    "        return [(start, cent_range[0] - 1), (cent_range[1] + 1, end)]\n",
    "    elif start < cent_range[0] < end:\n",
    "        return [(start, cent_range[0] - 1)]\n",
    "    elif start < cent_range[1] < end:\n",
    "        return [(cent_range[1] + 1, end)]\n",
    "    else:\n",
    "        return [(start, end)]\n",
    "\n",
    "# create \"new_ranges\" column that fixes any intergenic regions overlap with centromere\n",
    "ncbi_ig['new_ranges'] = ncbi_ig.apply(lambda row: remove_cent(row['start'], row['end'], cent_range), axis=1)\n",
    "\n",
    "# explode the column, as the affected intergenic region completely encompasses the centromere\n",
    "ncbi_ig = ncbi_ig.explode('new_ranges').reset_index(drop=True)\n",
    "\n",
    "# split new_ranges as start and end columns\n",
    "ncbi_ig[['start', 'end']] = pd.DataFrame(ncbi_ig['new_ranges'].tolist(), index=ncbi_ig.index)\n",
    "\n",
    "# drop new_ranges column\n",
    "ncbi_ig.drop(columns=['new_ranges'], inplace=True)\n",
    "\n",
    "# update the seq_len\n",
    "ncbi_ig['seq_len'] = ncbi_ig['end'] - ncbi_ig['start']\n"
   ]
  },
  {
   "cell_type": "code",
   "execution_count": 11,
   "metadata": {},
   "outputs": [],
   "source": [
    "# get random intergenic regions. To get 1000 random regions, we randomly sampled each region 1000 times, then selected non-overlapping 1000 values from that list\n",
    "\n",
    "# empty lists to store randomly sampled ranges and corresponding \"chr\" values\n",
    "rand_ig = []\n",
    "\n",
    "# set seed for np. Will also use this value for later random processes\n",
    "np.random.seed(63)\n",
    "\n",
    "# set number of ranges & range size\n",
    "num_ranges = 1000\n",
    "range_size = 141\n",
    "\n",
    "# iterate over each row in the dataframe\n",
    "for index, row in ncbi_ig.iterrows():\n",
    "    # get the chr, start, and end for the current row\n",
    "    start_value = row['start']\n",
    "    end_value = row['end']\n",
    "    chr_value = row['chr']\n",
    "\n",
    "    # randomly sample 1000 start coordinates. Need at least 141 bp in length, so the end_value - range_size + 1\n",
    "    random_samples = np.random.randint(start_value, end_value - range_size + 1, num_ranges)\n",
    "\n",
    "    # add the sampled ranges and corresponding \"chr\" values to the lists\n",
    "    for rand_seq_start in random_samples:\n",
    "        rand_seq_end = rand_seq_start + range_size\n",
    "\n",
    "        rand_ig.append({\n",
    "            'chr': chr_value,\n",
    "            'intergenic_region_start': start_value,\n",
    "            'intergenic_region_end': end_value,\n",
    "            'rand_seq_start': rand_seq_start,\n",
    "            'rand_seq_end': rand_seq_end\n",
    "        })\n",
    "ncbi_ig_rand = pd.DataFrame(rand_ig)"
   ]
  },
  {
   "cell_type": "code",
   "execution_count": 12,
   "metadata": {},
   "outputs": [],
   "source": [
    "# get random non-overlapping regions\n",
    "\n",
    "# extract ranges\n",
    "ranges = list(zip(ncbi_ig_rand['chr'], ncbi_ig_rand['rand_seq_start'], ncbi_ig_rand['rand_seq_end']))\n",
    "\n",
    "random.seed(63)\n",
    "\n",
    "# shuffle the list of tuples for randomness\n",
    "random.shuffle(ranges)\n",
    "\n",
    "# get 1000 non-overlapping regions\n",
    "random_ranges = []\n",
    "for i in ranges:\n",
    "    if not any(start <= i[2] and end >= i[1] for _, start, end in random_ranges):\n",
    "        random_ranges.append(i)\n",
    "        if len(random_ranges) == 1000:\n",
    "            break\n",
    "\n",
    "# convert the selected regions as dataframe, then merge with the original to check for the intergenic regions\n",
    "rand_ig_reg = pd.DataFrame(random_ranges, columns=['chr', 'rand_seq_start', 'rand_seq_end'])\n",
    "rand_ig_reg_merged = pd.merge(rand_ig_reg, ncbi_ig_rand, on=['chr', 'rand_seq_start', 'rand_seq_end'], how='left').drop_duplicates()\n",
    "\n",
    "# rearrange the dataframe, then sort by start values for viewing pleasure\n",
    "rand_ig_reg_merged = rand_ig_reg_merged[['chr', 'intergenic_region_start', 'intergenic_region_end', 'rand_seq_start', 'rand_seq_end']]\n",
    "rand_ig_reg_merged = rand_ig_reg_merged.sort_values('rand_seq_start')\n"
   ]
  },
  {
   "cell_type": "code",
   "execution_count": 13,
   "metadata": {},
   "outputs": [],
   "source": [
    "#  check for overlap\n",
    "def check_overlap(row, df):\n",
    "    '''\n",
    "    function to check for overlap between random intergenic regions\n",
    "    '''\n",
    "    overlaps = []\n",
    "    for index, other_row in df.iterrows():\n",
    "        if (row['rand_seq_start'] < other_row['rand_seq_end'] and row['rand_seq_end'] > other_row['rand_seq_start']):\n",
    "            overlaps.append(index)\n",
    "    return overlaps\n",
    "\n",
    "overlapping_ranges = []\n",
    "for index, row in rand_ig_reg_merged.iterrows():\n",
    "    overlaps = check_overlap(row, rand_ig_reg_merged.drop(index))\n",
    "    if overlaps:\n",
    "        overlapping_ranges.append((index, overlaps))\n",
    "\n",
    "for index, overlaps in overlapping_ranges:\n",
    "    print(f'{index} overlaps with {overlaps}')"
   ]
  },
  {
   "cell_type": "code",
   "execution_count": 14,
   "metadata": {},
   "outputs": [],
   "source": [
    "rand_ig_reg_merged.to_csv('results/hg38_ncbiRefSeq_chr12_intergenic_nonoverlap_randseq_no_centremere_updated.txt', index=False, sep='\\t')"
   ]
  }
 ],
 "metadata": {
  "kernelspec": {
   "display_name": "Python 3",
   "language": "python",
   "name": "python3"
  },
  "language_info": {
   "codemirror_mode": {
    "name": "ipython",
    "version": 3
   },
   "file_extension": ".py",
   "mimetype": "text/x-python",
   "name": "python",
   "nbconvert_exporter": "python",
   "pygments_lexer": "ipython3",
   "version": "3.11.2"
  }
 },
 "nbformat": 4,
 "nbformat_minor": 2
}
