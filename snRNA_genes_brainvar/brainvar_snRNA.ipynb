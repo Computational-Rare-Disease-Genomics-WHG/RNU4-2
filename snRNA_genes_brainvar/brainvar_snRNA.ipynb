{
 "cells": [
  {
   "cell_type": "code",
   "execution_count": 24,
   "metadata": {},
   "outputs": [],
   "source": [
    "import pandas as pd\n",
    "import numpy as np\n",
    "import os\n",
    "import warnings\n",
    "\n",
    "pd.options.mode.chained_assignment = None"
   ]
  },
  {
   "cell_type": "code",
   "execution_count": 25,
   "metadata": {},
   "outputs": [],
   "source": [
    "# load the brainvar meanCPM for snRNAs and rRNAs\n",
    "brainvar_wg = pd.read_csv('brainvar_ensembl_rRNA_snRNA_meanCPM.txt', sep='\\t', names=['chr', 'start', 'end', 'meanCPM'])\n",
    "\n",
    "# the coordinates are zero-based, half-open. So, +1 to start coordinate to set it as 1-based\n",
    "brainvar_wg['start'] = brainvar_wg['start'] + 1\n",
    "\n",
    "# remove any  that have NaN or 0 as meanCPM values\n",
    "brainvar_wg = brainvar_wg[brainvar_wg['meanCPM'].notna()]\n",
    "brainvar_wg = brainvar_wg[brainvar_wg['meanCPM'] != 0.00000]"
   ]
  },
  {
   "cell_type": "code",
   "execution_count": 35,
   "metadata": {},
   "outputs": [],
   "source": [
    "# import the Ensembl exon coordinates for snRNAs\n",
    "ens_genes = pd.read_csv('ensembl_biotype_exons.txt', sep='\\t', names=['chr', 'start', 'end', 'gene_id', 'gene_name', 'biotype'])\n",
    "ens_genes = ens_genes[ens_genes['biotype'] != 'rRNA']\n",
    "\n",
    "# merge to add these info to the BrainVar data\n",
    "brainvar_ens = pd.merge(brainvar_wg, ens_genes, left_on=['chr', 'start', 'end'], right_on=['chr', 'start', 'end'], how='left')\n",
    "brainvar_ens = brainvar_ens[['chr', 'start', 'end', 'gene_id', 'gene_name', 'biotype', 'meanCPM']].dropna(subset = ['biotype'])\n"
   ]
  },
  {
   "cell_type": "code",
   "execution_count": 40,
   "metadata": {},
   "outputs": [],
   "source": [
    "# look for meanCPM > 5\n",
    "brainvar_ens_cpm5 = brainvar_ens[brainvar_ens['meanCPM'] > 5]\n",
    "\n",
    "brainvar_ens_cpm5 = brainvar_ens_cpm5[~brainvar_ens_cpm5['gene_name'].str.endswith('P')]\n",
    "\n",
    "# manually curated out ENSG00000273694, ENSG00000283489, ENSG00000283509 as these genes are known to be pseudogenes\n",
    "manual_pseudo = ['ENSG00000273694', 'ENSG00000283489', 'ENSG00000283509']\n",
    "brainvar_ens_cpm5 = brainvar_ens_cpm5[~brainvar_ens_cpm5['gene_id'].isin(manual_pseudo)]\n",
    "\n",
    "brainvar_ens_cpm5.to_csv('results/brainvar_snRNA_cpm5.txt', sep='\\t', index=False)\n"
   ]
  }
 ],
 "metadata": {
  "kernelspec": {
   "display_name": "Python 3",
   "language": "python",
   "name": "python3"
  },
  "language_info": {
   "codemirror_mode": {
    "name": "ipython",
    "version": 3
   },
   "file_extension": ".py",
   "mimetype": "text/x-python",
   "name": "python",
   "nbconvert_exporter": "python",
   "pygments_lexer": "ipython3",
   "version": "3.11.2"
  }
 },
 "nbformat": 4,
 "nbformat_minor": 2
}
